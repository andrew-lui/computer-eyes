{
 "metadata": {
  "language_info": {
   "codemirror_mode": {
    "name": "ipython",
    "version": 3
   },
   "file_extension": ".py",
   "mimetype": "text/x-python",
   "name": "python",
   "nbconvert_exporter": "python",
   "pygments_lexer": "ipython3",
   "version": "3.7.3-final"
  },
  "orig_nbformat": 2,
  "kernelspec": {
   "name": "python3",
   "display_name": "Python 3.7.3 64-bit (conda)",
   "metadata": {
    "interpreter": {
     "hash": "b3ba2566441a7c06988d0923437866b63cedc61552a5af99d1f4fb67d367b25f"
    }
   }
  }
 },
 "nbformat": 4,
 "nbformat_minor": 2,
 "cells": [
  {
   "source": [
    "## Vision --- Feature detection"
   ],
   "cell_type": "markdown",
   "metadata": {}
  },
  {
   "source": [
    "### Import libraries"
   ],
   "cell_type": "markdown",
   "metadata": {}
  },
  {
   "cell_type": "code",
   "execution_count": null,
   "metadata": {},
   "outputs": [],
   "source": [
    "import cv2\n",
    "import numpy as np\n",
    "import matplotlib.pyplot as plt"
   ]
  },
  {
   "source": [
    "### Image paths"
   ],
   "cell_type": "markdown",
   "metadata": {}
  },
  {
   "cell_type": "code",
   "execution_count": null,
   "metadata": {},
   "outputs": [],
   "source": [
    "PATH_SUDOKU = \"..\\images\\sudoku.jpg\"\n",
    "PATH_CHESS = \"..\\images\\chessboard.png\""
   ]
  },
  {
   "source": [
    "## Canny Edge detection"
   ],
   "cell_type": "markdown",
   "metadata": {}
  },
  {
   "cell_type": "code",
   "execution_count": null,
   "metadata": {},
   "outputs": [],
   "source": [
    "# Edge detection may be achieved using the Canny OpenCV member\n",
    "# A sudoku game is used in this example\n",
    "\n",
    "img = cv2.imread(PATH_SUDOKU)                                                     # read image\n",
    "\n",
    "edges = cv2.Canny(img, threshold1 = 50, threshold2 = 100, apertureSize = 3)       # call Canny OpenCV function\n",
    "\n",
    "# show the original, edges\n",
    "fig, (ax1, ax2) = plt.subplots(figsize = (15, 10), ncols = 2)\n",
    "ax1.imshow(img, cmap = 'gray'), ax1.set_title(\"Original\")\n",
    "ax2.imshow(edges, cmap = 'gray'), ax2.set_title(\"Detected edges\")\n",
    "plt.show()"
   ]
  },
  {
   "source": [
    "## Corner detection"
   ],
   "cell_type": "markdown",
   "metadata": {}
  },
  {
   "cell_type": "code",
   "execution_count": null,
   "metadata": {},
   "outputs": [],
   "source": [
    "# Corner detection may be achieved using the cornerHarris OpenCV member\n",
    "# A chessboard is used in this example\n",
    "\n",
    "img = cv2.imread(PATH_CHESS)                                                # load image, default as BGR\n",
    "img_rgb = cv2.cvtColor(img, cv2.COLOR_BGR2RGB)                              # convert BGR to RGB\n",
    "img_gray = cv2.cvtColor(img, cv2.COLOR_BGR2GRAY)                            # convert BGR to gray - for corner detection\n",
    "\n",
    "img_gray = np.float32(img_gray)                                             # set data type to 32-bit floating point\n",
    "\n",
    "corners = cv2.cornerHarris(img_gray, blockSize = 2, ksize = 3, k = 0.03)    # call corner Harris OpenCV method\n",
    "\n",
    "kernel = np.ones((10,10), np.uint8)                                         # kernel for dilate function\n",
    "corners = cv2.dilate(corners, kernel)                                       # dilate corners using kernel\n",
    "\n",
    "img[corners > 0.01 * corners.max()] = [0, 255, 0]                           # make detected corner pixels green on original\n",
    "img_rgb_corners = cv2.cvtColor(img,cv2.COLOR_BGR2RGB)                       # convert to RGB\n",
    "\n",
    "# show the original, detected corners, corners on original\n",
    "fig, (ax1, ax2, ax3) = plt.subplots(figsize = (15, 10), ncols = 3)\n",
    "ax1.imshow(img_rgb), ax1.set_title(\"Original\")\n",
    "ax2.imshow(corners, cmap = 'gray'), ax2.set_title(\"Detected corners\")\n",
    "ax3.imshow(img_rgb_corners), ax3.set_title(\"Corners shown\")\n",
    "plt.show()"
   ]
  }
 ]
}